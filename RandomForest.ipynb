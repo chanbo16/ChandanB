# Re-importing necessary libraries and re-loading the dataset
import pandas as pd
from sklearn.model_selection import train_test_split
from sklearn.ensemble import RandomForestRegressor

# Load the dataset
file_path = '/mnt/data/processed_data_with_random_study_hours.csv'
processed_df = pd.read_csv(file_path)

# Align the dataset by dropping rows with missing values in the score columns
aligned_data = processed_df.dropna(subset=['MathScore', 'ReadingScore', 'WritingScore'])

# Update X and y variables with aligned data
X_aligned = aligned_data.drop(columns=['MathScore', 'ReadingScore', 'WritingScore'])
y_math_aligned = aligned_data['MathScore']
y_reading_aligned = aligned_data['ReadingScore']
y_writing_aligned = aligned_data['WritingScore']

# Re-split the data to ensure consistent sample size
X_train_aligned, X_test_aligned, y_train_math, y_test_math = train_test_split(X_aligned, y_math_aligned, test_size=0.2, random_state=42)
_, _, y_train_reading, y_test_reading = train_test_split(X_aligned, y_reading_aligned, test_size=0.2, random_state=42)
_, _, y_train_writing, y_test_writing = train_test_split(X_aligned, y_writing_aligned, test_size=0.2, random_state=42)

# Retrain Random Forest models for all three scores
rf_model_math = RandomForestRegressor(random_state=42, n_estimators=100)
rf_model_reading = RandomForestRegressor(random_state=42, n_estimators=100)
rf_model_writing = RandomForestRegressor(random_state=42, n_estimators=100)

rf_model_math.fit(X_train_aligned, y_train_math)
rf_model_reading.fit(X_train_aligned, y_train_reading)
rf_model_writing.fit(X_train_aligned, y_train_writing)

# Get feature importances for all three scores
importance_math = rf_model_math.feature_importances_
importance_reading = rf_model_reading.feature_importances_
importance_writing = rf_model_writing.feature_importances_

# Combine into a DataFrame for comparison
feature_importance_all = pd.DataFrame({
    'Feature': X_aligned.columns,
    'Math Importance': importance_math,
    'Reading Importance': importance_reading,
    'Writing Importance': importance_writing
}).sort_values(by='Math Importance', ascending=False)

# Display the top 10 features by Math importance and their comparison across all scores
feature_importance_all.head(10)
